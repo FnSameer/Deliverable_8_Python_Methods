{
 "cells": [
  {
   "cell_type": "code",
   "execution_count": 1,
   "id": "8fedffcf",
   "metadata": {},
   "outputs": [
    {
     "name": "stdout",
     "output_type": "stream",
     "text": [
      "Enter an integer between 5 and 15: 4\n",
      "Please enter an integer between 5 and 15.\n",
      "Enter an integer between 5 and 15: 5\n",
      "The elements of the array are: [14, 11, 10, 38, 17]\n",
      "The sum is: 90\n"
     ]
    }
   ],
   "source": [
    "import random\n",
    "\n",
    "def populate_list(length):\n",
    "    return [random.randint(10, 50) for _ in range(length)]\n",
    "\n",
    "def sum_list(numbers):\n",
    "    return sum(numbers)\n",
    "\n",
    "while True:\n",
    "    number = int(input(\"Enter an integer between 5 and 15: \"))\n",
    "    if 5 <= number <= 15:\n",
    "        break\n",
    "    else:\n",
    "        print(\"Please enter an integer between 5 and 15.\")\n",
    "\n",
    "my_list = populate_list(number)\n",
    "print(\"The elements of the array are:\", my_list)\n",
    "\n",
    "list_sum = sum_list(my_list)\n",
    "print(\"The sum is:\", list_sum)\n"
   ]
  },
  {
   "cell_type": "code",
   "execution_count": null,
   "id": "124357ef",
   "metadata": {},
   "outputs": [],
   "source": []
  },
  {
   "cell_type": "code",
   "execution_count": null,
   "id": "1a32ec7a",
   "metadata": {},
   "outputs": [],
   "source": []
  },
  {
   "cell_type": "code",
   "execution_count": null,
   "id": "e854bcb6",
   "metadata": {},
   "outputs": [],
   "source": []
  },
  {
   "cell_type": "code",
   "execution_count": null,
   "id": "7846d193",
   "metadata": {},
   "outputs": [],
   "source": [
    "\n"
   ]
  },
  {
   "cell_type": "code",
   "execution_count": null,
   "id": "6cca5b22",
   "metadata": {},
   "outputs": [],
   "source": []
  }
 ],
 "metadata": {
  "kernelspec": {
   "display_name": "Python 3 (ipykernel)",
   "language": "python",
   "name": "python3"
  },
  "language_info": {
   "codemirror_mode": {
    "name": "ipython",
    "version": 3
   },
   "file_extension": ".py",
   "mimetype": "text/x-python",
   "name": "python",
   "nbconvert_exporter": "python",
   "pygments_lexer": "ipython3",
   "version": "3.10.7"
  }
 },
 "nbformat": 4,
 "nbformat_minor": 5
}
